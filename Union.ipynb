{
 "cells": [
  {
   "cell_type": "code",
   "execution_count": 6,
   "metadata": {},
   "outputs": [],
   "source": [
    "import nbformat\n",
    "\n",
    "# notebooks\n",
    "notebooks = ['Act1.ipynb', 'Act2.ipynb', 'Act7.ipynb']\n",
    "\n",
    "# nuevo notebook\n",
    "combined_notebook = nbformat.v4.new_notebook()\n",
    "\n",
    "for notebook in notebooks:\n",
    "    with open(notebook, encoding='utf-8') as f:  # codificación \n",
    "        nb = nbformat.read(f, as_version=4)\n",
    "        combined_notebook.cells.extend(nb.cells)\n",
    "\n",
    "# Nuevo notebook combinado\n",
    "with open('ProyectDS.ipynb', 'w', encoding='utf-8') as f:\n",
    "    nbformat.write(combined_notebook, f)\n"
   ]
  }
 ],
 "metadata": {
  "kernelspec": {
   "display_name": "Python 3",
   "language": "python",
   "name": "python3"
  },
  "language_info": {
   "codemirror_mode": {
    "name": "ipython",
    "version": 3
   },
   "file_extension": ".py",
   "mimetype": "text/x-python",
   "name": "python",
   "nbconvert_exporter": "python",
   "pygments_lexer": "ipython3",
   "version": "3.12.2"
  }
 },
 "nbformat": 4,
 "nbformat_minor": 2
}
