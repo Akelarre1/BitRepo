{
 "cells": [
  {
   "cell_type": "code",
   "execution_count": null,
   "metadata": {},
   "outputs": [],
   "source": [
    "import pandas as pd\n",
    "import os\n",
    "import warnings\n",
    "warnings.filterwarnings(\"ignore\")\n",
    "path = os.path.join(os.getcwd(), 'dataset')\n",
    "print(os.listdir(path))\n",
    "filename=[x for x in os.listdir(path) if 'Bucaramanga' in x] [0]\n",
    "filename"
   ]
  },
  {
   "cell_type": "code",
   "execution_count": null,
   "metadata": {},
   "outputs": [],
   "source": [
    "%pwd"
   ]
  },
  {
   "cell_type": "code",
   "execution_count": null,
   "metadata": {},
   "outputs": [],
   "source": [
    "path+ '\\\\' +filename"
   ]
  },
  {
   "cell_type": "code",
   "execution_count": null,
   "metadata": {},
   "outputs": [],
   "source": [
    "ab=pd.read_csv(path+ '\\\\' +filename,sep=',', encoding='utf-8')\n",
    "ab"
   ]
  },
  {
   "cell_type": "code",
   "execution_count": null,
   "metadata": {},
   "outputs": [],
   "source": [
    "ab.rename(columns={\"ORDEN\": \"Código\"}, inplace=True)\n",
    "ab.rename(columns={\"GRAVEDAD\":\"Clasificación\"}, inplace=True)\n",
    "ab.rename(columns={\"Propietario de Vehículo\":\"Propietario\"}, inplace=True)\n",
    "ab.rename(columns={\"COMUNA\":\"Detalle ubicación\"}, inplace=True)\n",
    "\n",
    "ab.info()"
   ]
  },
  {
   "cell_type": "markdown",
   "metadata": {},
   "source": [
    "Duplicados"
   ]
  },
  {
   "cell_type": "code",
   "execution_count": 8,
   "metadata": {},
   "outputs": [
    {
     "name": "stdout",
     "output_type": "stream",
     "text": [
      "Número de registros duplicados: 0\n"
     ]
    }
   ],
   "source": [
    "duplicados = ab.duplicated()\n",
    "numero_duplicados = duplicados.sum()\n",
    "print(f\"Número de registros duplicados: {numero_duplicados}\")"
   ]
  },
  {
   "cell_type": "markdown",
   "metadata": {},
   "source": [
    "Nulos"
   ]
  },
  {
   "cell_type": "code",
   "execution_count": null,
   "metadata": {},
   "outputs": [],
   "source": [
    "nulos_por_columna = ab.isnull().sum()\n",
    "print(nulos_por_columna)"
   ]
  },
  {
   "cell_type": "code",
   "execution_count": null,
   "metadata": {},
   "outputs": [],
   "source": [
    "#!pip install scikit-learn"
   ]
  },
  {
   "cell_type": "code",
   "execution_count": null,
   "metadata": {},
   "outputs": [],
   "source": [
    "import numpy as np\n",
    "import pandas as pd\n",
    "\n",
    "# Reemplazar \"Sin información\" por NaN para poder calcular los outliers \n",
    "ab['AUTOMOVIL'] = ab['AUTOMOVIL'].replace({'Sin información': np.nan})\n",
    "\n",
    "# Convertir la columna a tipo numérico, forzando errores a NaN\n",
    "ab['AUTOMOVIL'] = pd.to_numeric(ab['AUTOMOVIL'], errors='coerce')\n",
    "\n",
    "# Calcular la media de la columna AUTOMOVIL, ignorando NaN\n",
    "media_automovil = ab['AUTOMOVIL'].mean()\n",
    "\n",
    "# Rellenar NaN con la media calculada\n",
    "ab['AUTOMOVIL'].fillna(media_automovil, inplace=True)\n",
    "\n",
    "# Calcular el IQR (Rango Intercuartílico)\n",
    "Q1 = ab['AUTOMOVIL'].quantile(0.25)\n",
    "Q3 = ab['AUTOMOVIL'].quantile(0.75)\n",
    "IQR = Q3 - Q1\n",
    "\n",
    "# Definir límites para identificar outliers\n",
    "limite_inferior = Q1 - 1.5 * IQR\n",
    "limite_superior = Q3 + 1.5 * IQR\n",
    "\n",
    "# Filtrar outliers\n",
    "print(\"Límite Inferior:\", limite_inferior)\n",
    "print(\"Límite Superior:\", limite_superior)\n",
    "\n",
    "# Identificar outliers en la columna AUTOMOVIL\n",
    "outliers = ab[(ab['AUTOMOVIL'] < limite_inferior) | (ab['AUTOMOVIL'] > limite_superior)]\n",
    "\n",
    "# Eliminar outliers del DataFrame original\n",
    "tabla_cleaned = ab[~((ab['AUTOMOVIL'] < limite_inferior) | (ab['AUTOMOVIL'] > limite_superior))]\n",
    "\n",
    "# Opcional: Mostrar el número de outliers encontrados y el DataFrame limpio\n",
    "print(\"Número de outliers encontrados:\", len(outliers))\n",
    "print(\"DataFrame limpio:\", tabla_cleaned.head())"
   ]
  },
  {
   "cell_type": "code",
   "execution_count": null,
   "metadata": {},
   "outputs": [],
   "source": [
    "# Imprimir el número de outliers encontrados\n",
    "print(\"Número de outliers:\", len(outliers))\n",
    "\n",
    "# Imprimir la longitud de la tabla original\n",
    "print(\"Número de registros en la tabla original:\", len(ab))\n",
    "\n",
    "# Imprimir la longitud de la tabla sin outliers\n",
    "print(\"Número de registros en la tabla sin outliers:\", len(tabla_cleaned))"
   ]
  },
  {
   "cell_type": "code",
   "execution_count": null,
   "metadata": {},
   "outputs": [],
   "source": [
    "# Definir el umbral\n",
    "umbral = 4\n",
    "\n",
    "# Contar cuántos registros tienen 'Sin información' en cada fila\n",
    "# Suponiendo que queremos contar en todas las columnas de tipo objeto\n",
    "conteo_sin_info = ab.apply(lambda row: (row == 'Sin información').sum(), axis=1)\n",
    "\n",
    "# Filtrar registros donde el conteo de 'Sin información' es mayor que el umbral\n",
    "registros_filtrados = ab[conteo_sin_info > umbral]\n",
    "\n",
    "# Imprimir los registros filtrados\n",
    "print(\"Registros con mayoría de 'Sin información':\")\n",
    "print(registros_filtrados)"
   ]
  },
  {
   "cell_type": "code",
   "execution_count": null,
   "metadata": {},
   "outputs": [],
   "source": [
    "# Definir el umbral\n",
    "umbral = 4\n",
    "\n",
    "# Contar cuántos registros tienen 'Sin información' en cada fila\n",
    "conteo_sin_info = ab.apply(lambda row: (row == 'Sin información').sum(), axis=1)\n",
    "\n",
    "# Eliminar registros donde la mayoría de las columnas son 'Sin información'\n",
    "tabla_cleaned2 = tabla_cleaned[conteo_sin_info <= umbral]\n",
    "\n",
    "# Imprimir la longitud de la nueva tabla después de eliminar registros\n",
    "print(\"Tabla después de eliminar registros con mayoría de 'Sin información':\", len(tabla_cleaned2))\n",
    "\n",
    "# Mostrar la nueva tabla limpia\n",
    "tabla_cleaned2"
   ]
  },
  {
   "cell_type": "code",
   "execution_count": null,
   "metadata": {},
   "outputs": [],
   "source": [
    "#!pip install fancyimpute"
   ]
  },
  {
   "cell_type": "code",
   "execution_count": null,
   "metadata": {},
   "outputs": [],
   "source": [
    "import pandas as pd\n",
    "import numpy as np\n",
    "from sklearn.ensemble import IsolationForest\n",
    "import matplotlib.pyplot as plt\n",
    "\n",
    "\n",
    "# Si hay valores nulos, imputarlos primero\n",
    "\n",
    "# Definir las columnas a utilizar para la detección de anomalías\n",
    "columnas_a_usar = ['AUTOMOVIL', 'PEATON', 'CAMPERO', 'CAMIONETA', \n",
    "                    'MICRO', 'BUSETA', 'BUS', 'CAMION',\n",
    "                    'VOLQUETA', 'MOTO', 'BICICLETA', 'OTRO']\n",
    "\n",
    "# Filtrar el DataFrame solo con las columnas numéricas seleccionadas\n",
    "data = tabla_cleaned2[columnas_a_usar]\n",
    "\n",
    "# Inicializar el modelo Isolation Forest\n",
    "model = IsolationForest(n_estimators=100, contamination=0.1, random_state=42)\n",
    "\n",
    "# Ajustar el modelo a los datos\n",
    "model.fit(data)\n",
    "\n",
    "# Predecir anomalías: -1 indica anomalía y 1 indica inlier\n",
    "data['anomaly'] = model.predict(data)\n",
    "\n",
    "# Mostrar los resultados\n",
    "print(data.head(20))\n",
    "\n",
    "# Visualizar los resultados (opcional)\n",
    "plt.figure(figsize=(10, 6))\n",
    "plt.scatter(data.index, data['AUTOMOVIL'], c=data['anomaly'], cmap='coolwarm', label='Anomalías')\n",
    "plt.title('Detección de Anomalías usando Isolation Forest')\n",
    "plt.xlabel('Índice')\n",
    "plt.ylabel('Número de Automóviles')\n",
    "plt.legend()\n",
    "plt.show()"
   ]
  },
  {
   "cell_type": "code",
   "execution_count": null,
   "metadata": {},
   "outputs": [],
   "source": [
    "import pandas as pd\n",
    "import numpy as np\n",
    "from sklearn.impute import SimpleImputer\n",
    "from fancyimpute import IterativeImputer\n",
    "\n",
    "# DataFrame de ejemplo con valores nulos\n",
    "data = {\n",
    "    'AUTOMOVIL': [1, 2, np.nan, 4, 5, np.nan],\n",
    "    'PEATON': [np.nan, 1, 2, 3, np.nan, 5],\n",
    "    'CAMPERO': ['a', 'b', np.nan, 'd', 'e', 'f'],\n",
    "    'CAMIONETA': [np.nan, np.nan, np.nan, 4, 5, 6]\n",
    "}\n",
    "\n",
    "tabla_cleaned2 = pd.DataFrame(data)\n",
    "\n",
    "# DataFrame original\n",
    "print(\"DataFrame original:\")\n",
    "print(tabla_cleaned2)\n",
    "\n",
    "# Calcular el porcentaje de valores nulos por columna\n",
    "porcentaje_nulos = tabla_cleaned2.isnull().mean() * 100\n",
    "print(\"\\nPorcentaje de valores nulos por columna:\")\n",
    "print(porcentaje_nulos)\n",
    "\n",
    "# Imputar según el porcentaje de nulos\n",
    "for column in tabla_cleaned2.columns:\n",
    "    if porcentaje_nulos[column] < 20:\n",
    "        if tabla_cleaned2[column].dtype == 'object':\n",
    "            # Imputación de moda para columnas categóricas\n",
    "            imputer = SimpleImputer(strategy='most_frequent')\n",
    "            # Ajustar y transformar la columna\n",
    "            tabla_cleaned2[column] = imputer.fit_transform(tabla_cleaned2[[column]]).ravel()\n",
    "        else:\n",
    "            # Imputación de media para columnas numéricas\n",
    "            imputer = SimpleImputer(strategy='mean')\n",
    "            # Ajustar y transformar la columna\n",
    "            tabla_cleaned2[column] = imputer.fit_transform(tabla_cleaned2[[column]]).ravel()\n",
    "    else:\n",
    "        # Imputación múltiple si hay un alto porcentaje de nulos (>= 20%)\n",
    "        if tabla_cleaned2[column].dtype != 'object':\n",
    "            iterative_imputer = IterativeImputer()\n",
    "            tabla_cleaned2[column] = iterative_imputer.fit_transform(tabla_cleaned2[[column]]).ravel()\n",
    "\n",
    "# Mostrar el DataFrame después de la imputación\n",
    "print(\"\\nDataFrame después de la imputación:\")\n",
    "print(tabla_cleaned2)"
   ]
  }
 ],
 "metadata": {
  "kernelspec": {
   "display_name": "Python 3",
   "language": "python",
   "name": "python3"
  },
  "language_info": {
   "codemirror_mode": {
    "name": "ipython",
    "version": 3
   },
   "file_extension": ".py",
   "mimetype": "text/x-python",
   "name": "python",
   "nbconvert_exporter": "python",
   "pygments_lexer": "ipython3",
   "version": "3.12.2"
  }
 },
 "nbformat": 4,
 "nbformat_minor": 2
}
